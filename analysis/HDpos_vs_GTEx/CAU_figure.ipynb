{
 "cells": [
  {
   "cell_type": "code",
   "execution_count": 128,
   "metadata": {},
   "outputs": [],
   "source": [
    "from matplotlib.pyplot import *\n",
    "import matplotlib.pyplot as plt\n",
    "from collections import OrderedDict\n",
    "from functools import partial\n",
    "from itertools import chain, combinations, islice, product\n",
    "import networkx as nx\n",
    "import pandas\n",
    "import random\n",
    "from sklearn.cluster import AffinityPropagation\n",
    "from sklearn.metrics.pairwise import pairwise_distances\n",
    "import seaborn as sns\n",
    "\n",
    "random.seed(1337)\n",
    "np.random.seed(1337)\n",
    "\n",
    "plt.rc('figure',facecolor='w')\n",
    "plt.rc('svg',fonttype='none')"
   ]
  },
  {
   "cell_type": "code",
   "execution_count": 129,
   "metadata": {},
   "outputs": [],
   "source": [
    "gsea_cat = pandas.read_csv('gsea_category_map.csv',index_col=0)"
   ]
  },
  {
   "cell_type": "code",
   "execution_count": 130,
   "metadata": {},
   "outputs": [],
   "source": [
    "hd_ba9_gsea = pandas.read_csv('sympBA9_deseq2_fgsea_halfzero.csv',index_col=0)\n",
    "hd_ba9_gsea = hd_ba9_gsea.merge(gsea_cat,left_index=True,right_index=True,how='left')\n",
    "hd_ba9_gsea.columns = ['hdba9_{}'.format(_) for _ in hd_ba9_gsea.columns]"
   ]
  },
  {
   "cell_type": "code",
   "execution_count": 131,
   "metadata": {},
   "outputs": [],
   "source": [
    "hdpos_ba9_gsea = pandas.read_csv('asymp_C_deseq2_fgsea_halfzero.csv',index_col=0)\n",
    "hdpos_ba9_gsea = hdpos_ba9_gsea.merge(gsea_cat,left_index=True,right_index=True,how='left')\n",
    "hdpos_ba9_gsea.columns = ['hdposba9_{}'.format(_) for _ in hdpos_ba9_gsea.columns]"
   ]
  },
  {
   "cell_type": "code",
   "execution_count": 132,
   "metadata": {},
   "outputs": [],
   "source": [
    "hdpos_cau_gsea = pandas.read_csv('asymp_deseq2_fgsea_lessthan4zero.csv',index_col=0)\n",
    "hdpos_cau_gsea = hdpos_cau_gsea.merge(gsea_cat,left_index=True,right_index=True,how='left')\n",
    "hdpos_cau_gsea.columns = ['hdposcau_{}'.format(_) for _ in hdpos_cau_gsea.columns]"
   ]
  },
  {
   "cell_type": "code",
   "execution_count": 133,
   "metadata": {},
   "outputs": [],
   "source": [
    "effect = pandas.read_csv('ttest_GTEx_asymptomatic_effect_c2cp.csv',index_col=0)\n",
    "effect = effect.merge(gsea_cat,left_index=True,right_index=True,how='left')\n",
    "effect.columns = ['effect_{}'.format(_) for _ in effect.columns]"
   ]
  },
  {
   "cell_type": "code",
   "execution_count": 134,
   "metadata": {},
   "outputs": [],
   "source": [
    "direct = pandas.read_csv('ttest_GTEx_asymptomatic_direct_c2cp.csv',index_col=0)\n",
    "direct = direct.merge(gsea_cat,left_index=True,right_index=True,how='left')\n",
    "direct.columns = ['direct_{}'.format(_) for _ in direct.columns]"
   ]
  },
  {
   "cell_type": "code",
   "execution_count": 135,
   "metadata": {},
   "outputs": [],
   "source": [
    "def region_leadingEdges(df) :\n",
    "    # leading edge genes\n",
    "    cap_leadingEdge = reduce_leadingEdge(\n",
    "        df.direct_leadingEdge[\n",
    "            (df.direct_padj<0.05) &\n",
    "            (df.hdba9_padj>=0.05) &\n",
    "            (df.hdposba9_padj>=0.05)\n",
    "        ]\n",
    "    )\n",
    "        \n",
    "    hdba9_leadingEdge = reduce_leadingEdge(\n",
    "        df.hdba9_leadingEdge[\n",
    "            (df.hdba9_padj<0.05) &\n",
    "            (df.direct_padj>=0.05)\n",
    "        ]\n",
    "    )\n",
    "    \n",
    "    hdposba9_leadingEdge = reduce_leadingEdge(\n",
    "        df.hdposba9_leadingEdge[\n",
    "            (df.hdposba9_padj<0.05) &\n",
    "            (df.direct_padj>=0.05)\n",
    "        ]\n",
    "    )\n",
    "    return [cap_leadingEdge, hdba9_leadingEdge, hdposba9_leadingEdge]\n",
    "\n",
    "def reduce_leadingEdge(leadingEdge) :\n",
    "    if leadingEdge.size > 0 :\n",
    "        return set(reduce(\n",
    "            lambda x,y: set(x).union(set(y)),\n",
    "            [_.split() for _ in leadingEdge]\n",
    "        ))\n",
    "    else :\n",
    "        return set()\n",
    "        "
   ]
  },
  {
   "cell_type": "code",
   "execution_count": 136,
   "metadata": {},
   "outputs": [],
   "source": [
    "from functools import reduce\n",
    "merged = reduce(\n",
    "    lambda l,r: l.merge(r,left_index=True,right_index=True,how='outer'),\n",
    "    [hd_ba9_gsea,hdpos_ba9_gsea,hdpos_cau_gsea, direct])\n",
    "\n",
    "sig_merged = merged.loc[\n",
    "    (merged.hdba9_padj<0.05) |\n",
    "    (merged.hdposba9_padj<0.05) |\n",
    "    (merged.hdposcau_padj<0.05) |\n",
    "    (merged.direct_padj<0.05)\n",
    "].copy()\n",
    "sig_merged.loc[:,'Category'] = sig_merged.hdba9_Category\n",
    "padj_cols = [_ for _ in sig_merged.columns if 'padj' in _]\n",
    "nes_cols = [_ for _ in sig_merged.columns if 'NES' in _]"
   ]
  },
  {
   "cell_type": "markdown",
   "metadata": {},
   "source": [
    "To aid in interpretation, each geneset has been assigned into an agreement class based on its significance in different analyses:\n",
    "\n",
    "| (1) or (2) | (4) | (3) vs (5) | AgreementClass |   color   | importance |\n",
    "|------------|-----|------------|----------------|-----------|------------|\n",
    "| -          | -   | +          | cau_unique     | #0868ac   | 1          |\n",
    "| +          | -   | +          | cau_enhanced   | #43a2ca   | 2          |\n",
    "| +          | +   | +          | enhanced       | #7bccc4   | 3          |\n",
    "| +          | +   | -          | same           | #bae4bc   | 4          |\n",
    "| +          | -   | -          | ba9_unique     | #f0f9e8   | 5          |"
   ]
  },
  {
   "cell_type": "code",
   "execution_count": 137,
   "metadata": {},
   "outputs": [],
   "source": [
    "df = sig_merged\n",
    "ba9_sig = set(df[df.hdba9_padj<0.05].index).union(\n",
    "    set(df[df.hdposba9_padj<0.05].index)\n",
    ")\n",
    "cau_sig = set(df[df.hdposcau_padj<0.05].index)\n",
    "cau_vs_ba9_sig = set(sig_merged[sig_merged.direct_padj<0.05].index)\n",
    "\n",
    "gset_sets = OrderedDict(\n",
    "    cau_unique = cau_vs_ba9_sig.difference(ba9_sig.union(cau_sig)),\n",
    "    cau_enhanced = cau_vs_ba9_sig.intersection(ba9_sig).difference(cau_sig),\n",
    "    enhanced = cau_vs_ba9_sig.intersection(ba9_sig).intersection(cau_sig),\n",
    "    same = ba9_sig.intersection(cau_sig).difference(cau_vs_ba9_sig),\n",
    "    ba9_unique = ba9_sig.difference(cau_sig.union(cau_vs_ba9_sig))\n",
    ")\n",
    "# make sure we haven't missed anyone\n",
    "assert sum(list(map(len,gset_sets.values()))) == df.shape[0]\n",
    "\n",
    "sig_merged['agreement'] = ''\n",
    "sig_merged['agreement_i'] = 0\n",
    "for i,(k,v) in enumerate(gset_sets.items()) :\n",
    "    sig_merged.loc[v,'agreement'] = k\n",
    "    sig_merged.loc[v,'agreement_i'] = i\n",
    "\n",
    "agree_class_names = ['BA9 Unique','Same','Both Enhanced','CAU Enhanced','CAU Unique'][::-1]\n",
    "agree_class_colors = ['#f0f9e8','#bae4bc','#7bccc4','#43a2ca','#0868ac'][::-1]\n",
    "agree_class_colors = ['#feebe2','#fbb4b9','#f768a1','#c51b8a','#7a0177'][::-1]\n",
    "agree_class_color_d = dict(zip(gset_sets.keys(),agree_class_colors))"
   ]
  },
  {
   "cell_type": "code",
   "execution_count": 138,
   "metadata": {},
   "outputs": [],
   "source": [
    "from matplotlib.backends.backend_agg import FigureCanvasAgg\n",
    "# set up the figure\n",
    "figax = {}\n",
    "figax['fig'] = f = Figure(figsize=(30,20))\n",
    "figax['canvas'] = f.set_canvas(FigureCanvasAgg(f))\n",
    "\n",
    "figax['Neuron System'] = f.add_axes([0.22,0.1,0.10,.85])\n",
    "ax = f.add_axes([0.01,0.97,0.05,0.02])\n",
    "ax.text(0,0,'A',fontsize=36)\n",
    "ax.set_axis_off()\n",
    "\n",
    "# enriched pathways venn\n",
    "figax['all_enriched'] = f.add_axes([0.31,0.75,0.3,0.2])\n",
    "ax = f.add_axes([0.33,0.97,0.05,0.02])\n",
    "ax.text(0,0,'B',fontsize=36)\n",
    "ax.set_axis_off()\n",
    "\n",
    "# categorie pies\n",
    "figax['pies'] = f.subplots(4,3,gridspec_kw={\n",
    "    'left':0.33,'bottom':0.1,'right':0.65,'top':0.7,'wspace':0.04,'hspace':0.05\n",
    "})\n",
    "ax = f.add_axes([0.33,0.72,0.05,0.02])\n",
    "ax.text(0,0,'C',fontsize=36)\n",
    "ax.set_axis_off()\n",
    "\n",
    "# graph\n",
    "figax['graph'] = f.add_axes([0.65,0.1,0.30,.85])\n",
    "ax = f.add_axes([0.65,0.97,0.05,0.02])\n",
    "ax.text(0,0,'D',fontsize=36)\n",
    "ax.set_axis_off()"
   ]
  },
  {
   "cell_type": "code",
   "execution_count": 139,
   "metadata": {},
   "outputs": [
    {
     "data": {
      "text/plain": [
       "Text(0.5, 1.0, 'Enriched pathways')"
      ]
     },
     "execution_count": 139,
     "metadata": {},
     "output_type": "execute_result"
    }
   ],
   "source": [
    "from matplotlib_venn import venn3\n",
    "v = venn3([\n",
    "    set(sig_merged[sig_merged.direct_padj<0.05].index),\n",
    "    set(sig_merged[sig_merged.hdba9_padj<0.05].index),\n",
    "    set(sig_merged[sig_merged.hdposba9_padj<0.05].index)\n",
    "], set_labels=('HD CAU vs BA9','HD BA9','HD+ BA9'),\n",
    "    ax=figax['all_enriched'],\n",
    ")\n",
    "v.hide_zeroes()\n",
    "[_.set_size('18') for _ in v.subset_labels+v.set_labels]\n",
    "figax['all_enriched'].set_title('Enriched pathways',fontsize=20)"
   ]
  },
  {
   "cell_type": "code",
   "execution_count": 140,
   "metadata": {},
   "outputs": [],
   "source": [
    "from itertools import chain\n",
    "axs = list(chain(*figax['pies']))\n",
    "\n",
    "for (cat, df), ax in zip(sig_merged.groupby('Category'),axs) :\n",
    "\n",
    "    counts = [(df.agreement==_).sum() for _ in gset_sets.keys()]\n",
    "    counts, colors = zip(*[_ for _ in zip(counts,agree_class_colors) if _[0] != 0])\n",
    "    \n",
    "    ax.pie(counts,\n",
    "           labels=counts,\n",
    "            labeldistance=0.75,\n",
    "            textprops={'color':'#444444','fontsize':'16','ha':'center','va':'center'},\n",
    "            colors=colors\n",
    "    )\n",
    "    ax.axis('equal')\n",
    "    ax.set_title('{}'.format(cat),pad=1,fontsize=16)\n",
    "\n",
    "# put a legend in the last axis spots\n",
    "for i,(k,cl) in enumerate(zip(agree_class_names, agree_class_colors)) :\n",
    "    ypos = len(agree_class_names)-i\n",
    "    axs[-2].add_patch(Rectangle([0,ypos],0.5,0.5,facecolor=cl))\n",
    "    axs[-2].text(0.75,ypos+.25,k,va='center',fontsize=16)\n",
    "axs[-2].axis('equal')\n",
    "\n",
    "[_.set_axis_off() for _ in axs];"
   ]
  },
  {
   "cell_type": "code",
   "execution_count": 141,
   "metadata": {},
   "outputs": [],
   "source": [
    "from cluster_graph import shortened_geneset_names\n",
    "from scipy.cluster.hierarchy import linkage, leaves_list\n",
    "def heatmap(df,ax) :\n",
    "    \n",
    "    # don't modify the dataframe\n",
    "    df = df.copy()\n",
    "    \n",
    "    # relabel long genesets\n",
    "    df.index = shortened_geneset_names(df)\n",
    "    \n",
    "    clustered = df.sort_values('agreement_i')[nes_cols]\n",
    "    leaves = clustered.index\n",
    "    #leaves = leaves_list(linkage(df[padj_cols].fillna(1)<0.05,'ward'))\n",
    "    #clustered = df.iloc[leaves][nes_cols].fillna(0)\n",
    "    \n",
    "    # we need a blank column so that later we can overlay the agreement class\n",
    "    clustered['agreement_class'] = 0\n",
    "\n",
    "    clustered.columns = ['HD BA9 (1)','HD+ BA9 (2)', 'HD+ CAU (4)','HD+ CAU vs BA9\\n(3) vs (5)','Agreement\\nClass']\n",
    "    f = sns.heatmap(\n",
    "        clustered,\n",
    "        center=0,\n",
    "        cmap=cm.RdBu_r,\n",
    "        cbar=False,\n",
    "        ax=ax\n",
    "    )\n",
    "\n",
    "    sig_annot = df.loc[leaves][padj_cols].fillna(1)<0.05\n",
    "    sig_annot_y, sig_annot_x = zip(*np.argwhere(sig_annot.values))\n",
    "\n",
    "    # put dots on the significant pathways\n",
    "    ax.scatter(\n",
    "        np.array(sig_annot_x)+0.5,\n",
    "        np.array(sig_annot_y)+0.5,\n",
    "        c='#ffffff'\n",
    "    )\n",
    "    \n",
    "    # plot a vertical line between the individual and relative columns\n",
    "    ax.plot([3,3],[0,df.shape[0]+1],'k')\n",
    "    \n",
    "    # add column of patches with the agreement class\n",
    "    for i,(k,r) in enumerate(df.loc[leaves].iterrows()) :\n",
    "        ax.add_patch(\n",
    "            Rectangle([4,i],1,1,facecolor=agree_class_color_d[r.agreement])\n",
    "        )\n",
    "            \n",
    "    # plot a vertical line between the relative columns and agreement class\n",
    "    nudge = 0.04\n",
    "    ax.plot([4+nudge,4+nudge],[0,df.shape[0]+1],'w',linewidth=3)\n",
    "    ax.plot([5-nudge,5-nudge],[0,df.shape[0]+1],'w',linewidth=3)"
   ]
  },
  {
   "cell_type": "code",
   "execution_count": 142,
   "metadata": {},
   "outputs": [],
   "source": [
    "neuro_df = sig_merged[sig_merged.Category == 'Neuron System']\n",
    "heatmap(neuro_df, figax['Neuron System'])\n",
    "figax['Neuron System'].set_title('Neuron System',fontsize=18);"
   ]
  },
  {
   "cell_type": "code",
   "execution_count": 143,
   "metadata": {},
   "outputs": [],
   "source": [
    "from cluster_graph import cluster_gsea, union_leadingEdge\n",
    "\n",
    "df = sig_merged[sig_merged.Category == 'Cell Cycle/Development'].copy()\n",
    "\n",
    "df.index = shortened_geneset_names(df)\n",
    "\n",
    "df['leadingEdge'] = ''\n",
    "\n",
    "cm = {}\n",
    "for k,v in df.agreement.items() :\n",
    "    cm[k] = agree_class_color_d[v]\n",
    "\n",
    "cap_sig = set(df[df.direct_padj<0.05].index)\n",
    "ba9_sig = set(df[df.hdba9_padj<0.05].index).union(\n",
    "    set(df[df.hdposba9_padj<0.05].index)\n",
    ")\n",
    "\n",
    "# leading edge for CAU only is just from (3) vs (5)\n",
    "cau_df = df.loc[cap_sig.difference(ba9_sig)].copy()\n",
    "cau_df['leadingEdge'] = cau_df.direct_leadingEdge\n",
    "#cm.update(dict(zip(cau_df.index,['red']*cau_df.index.size)))\n",
    "\n",
    "# leading edge for (1) or (2) is the union of those\n",
    "ba9_df = df.loc[ba9_sig.difference(cap_sig)].copy()\n",
    "ba9_df['leadingEdge'] = union_leadingEdge(ba9_df[['hdba9_leadingEdge','hdposba9_leadingEdge']])\n",
    "#cm.update(dict(zip(ba9_df.index,['blue']*ba9_df.index.size)))\n",
    "\n",
    "# leading edge for all three is union of all\n",
    "all_df = df.loc[cap_sig.intersection(ba9_sig)]\n",
    "all_df['leadingEdge'] = union_leadingEdge(all_df)\n",
    "#cm.update(dict(zip(all_df.index,['purple']*all_df.index.size)))\n",
    "\n",
    "# concatenate the back together, the indices should be disjoint\n",
    "all_df = pandas.concat([cau_df, ba9_df, all_df],axis=0)\n",
    "assert df.shape == all_df.shape\n",
    "\n",
    "f = cluster_gsea(all_df,colormap=cm,ax=figax['graph'])\n",
    "figax['graph'].set_xlim(left=-1,right=30)\n",
    "ylim = figax['graph'].get_ylim()\n",
    "figax['graph'].set_ylim(bottom=ylim[0]-20)\n",
    "figax['graph'].set_axis_off()"
   ]
  },
  {
   "cell_type": "code",
   "execution_count": 144,
   "metadata": {},
   "outputs": [],
   "source": [
    "figax['fig'].canvas.draw()\n",
    "figax['fig'].savefig('bigfig.png')\n",
    "figax['fig'].savefig('bigfig.svg')"
   ]
  },
  {
   "cell_type": "code",
   "execution_count": null,
   "metadata": {},
   "outputs": [],
   "source": [
    "for cat, df in sig_merged.groupby('Category') :\n",
    "    \n",
    "    cap_inc = set(df[df.direct_padj<0.05].index)\n",
    "    cap_sig = set(df[df.hdposcau_padj<0.05].index)\n",
    "    ba9_sig = set(df[df.hdba9_padj<0.05].index).union(\n",
    "        set(df[df.hdposba9_padj<0.05].index)\n",
    "    )\n",
    "    \n",
    "    # assert genesets enriched in (4) are always also enriched in either (1) or (2)\n",
    "    assert cap_sig.intersection(ba9_sig) == cap_sig\n",
    "\n",
    "    ax = figure(figsize=(3,df.shape[0]*.25)).gca()\n",
    "    heatmap(df, ax)\n",
    "    ax.set_title(cat+' NES')\n",
    "    \n",
    "    #figure()\n",
    "    #f = figure()\n",
    "    #venn3(region_leadingEdges(df), set_labels=('CAP vs BA9','HD BA9','HD+ BA9'))\n",
    "    #title(cat+' Leading Edge Genes for Disjoint Pathways')"
   ]
  }
 ],
 "metadata": {
  "kernelspec": {
   "display_name": "Python 3",
   "language": "python",
   "name": "python3"
  },
  "language_info": {
   "codemirror_mode": {
    "name": "ipython",
    "version": 3
   },
   "file_extension": ".py",
   "mimetype": "text/x-python",
   "name": "python",
   "nbconvert_exporter": "python",
   "pygments_lexer": "ipython3",
   "version": "3.7.0"
  }
 },
 "nbformat": 4,
 "nbformat_minor": 2
}
