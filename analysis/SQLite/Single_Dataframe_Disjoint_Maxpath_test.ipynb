{
 "cells": [
  {
   "cell_type": "markdown",
   "metadata": {},
   "source": [
    "# Fastest Code"
   ]
  },
  {
   "cell_type": "code",
   "execution_count": null,
   "metadata": {
    "collapsed": true
   },
   "outputs": [],
   "source": [
    "import pandas as pd\n",
    "    def find_cluster(cluster_name, dataframe):\n",
    "        \"\"\"\n",
    "       returns clusters with disjoint maxpaths annotated\n",
    "       to different genomes or annotated on the same\n",
    "       genome min of 10kb apart\n",
    "        \"\"\"\n",
    "        cluster = cluster_name\n",
    "        df = dataframe\n",
    "        maxpaths = [set(item) for item in [_.split(',') for _ in df['maxpath'].as_matrix()]]\n",
    "        chrom_string = df['chrom_pos'].as_matrix()\n",
    "        chrom = [_.split(':')[0] for _ in df['chrom_pos'].as_matrix()]\n",
    "        chrom_end = [int(_.split('-')[1]) for _ in df['chrom_pos'].as_matrix()]\n",
    "        for idx,item in enumerate(maxpaths):\n",
    "            for j in range(idx+1, len(maxpaths)):\n",
    "                if item.isdisjoint(maxpaths[j]):\n",
    "                    if chrom[idx] != chrom[j]:\n",
    "                        return(cluster)\n",
    "                    elif chrom[idx] == chrom[j]:\n",
    "                        if abs(chrom_end[idx] - chrom_end[j]) > 10000:\n",
    "                            return(cluster)\n",
    "\n",
    "    def df_to_dict(dataframe):\n",
    "        \"\"\" \n",
    "        Create dict with cluster as key and\n",
    "        subset of dataframe at cluster as value\n",
    "        \"\"\"\n",
    "        df = dataframe\n",
    "        unique_clusters = df['cluster_name'].unique()\n",
    "        sub_dfs = []\n",
    "        for i in unique_clusters:\n",
    "            sub_dfs.append(df[df['cluster_name'] == i])\n",
    "        return(dict(zip(unique_clusters, sub_dfs)))\n",
    "\n",
    "    def get_clusters(dataframe):\n",
    "        \"\"\"\n",
    "        return disjoint clusters\n",
    "        \"\"\"\n",
    "        df = pd.read_csv(dataframe, index_col=False)\n",
    "        df_dict = df_to_dict(df)\n",
    "        disjoint = [find_cluster(k,v) for k,v in df_dict.items() if find_cluster(k,v)]\n",
    "        return(disjoint)"
   ]
  },
  {
   "cell_type": "code",
   "execution_count": null,
   "metadata": {
    "collapsed": true
   },
   "outputs": [],
   "source": [
    "x = get_clusters('results/disjoint_maxpaths_greater_than_one.csv')\n",
    "df = pd.DataFrame({'clusters_with_disjoint_maxpaths':x})\n",
    "df.to_csv('clusters_with_disjoint_maxpaths.csv', index=False)\n",
    "print(x)"
   ]
  },
  {
   "cell_type": "markdown",
   "metadata": {},
   "source": [
    "# Some fo the rough drafts of the code below. For the curious"
   ]
  },
  {
   "cell_type": "markdown",
   "metadata": {},
   "source": [
    "# Testing 2 ways of trimming maxpaths"
   ]
  },
  {
   "cell_type": "code",
   "execution_count": 86,
   "metadata": {},
   "outputs": [
    {
     "data": {
      "text/plain": [
       "Index(['cluster_0', 'cluster_1', 'cluster_10', 'cluster_100', 'cluster_1000',\n",
       "       'cluster_10000', 'cluster_100004', 'cluster_100007', 'cluster_100009',\n",
       "       'cluster_10001',\n",
       "       ...\n",
       "       'cluster_99921', 'cluster_9993', 'cluster_9994', 'cluster_9995',\n",
       "       'cluster_99961', 'cluster_99969', 'cluster_9997', 'cluster_99973',\n",
       "       'cluster_9999', 'cluster_99991'],\n",
       "      dtype='object', name='cluster_name', length=68656)"
      ]
     },
     "execution_count": 86,
     "metadata": {},
     "output_type": "execute_result"
    }
   ],
   "source": [
    "new_df = untouched_df.groupby('cluster_name').agg('count')\n",
    "new_df = new_df[new_df['maxpath'] > 1]\n",
    "clusters = new_df.index\n",
    "abundance_df = pd.read_csv('/mnt/remote/SQLite/results/disjoint_maxpaths_abundance.csv')\n",
    "trimmed_df = abundance_df[abundance_df.groupby('cluster_name').cluster_name.transform(len) > 1]\n",
    "trimmed_df\n",
    "\n"
   ]
  },
  {
   "cell_type": "markdown",
   "metadata": {},
   "source": [
    "# Difference in speed between old and new find clusters"
   ]
  },
  {
   "cell_type": "code",
   "execution_count": 40,
   "metadata": {},
   "outputs": [
    {
     "name": "stdout",
     "output_type": "stream",
     "text": [
      "247 µs ± 5.48 µs per loop (mean ± std. dev. of 7 runs, 1000 loops each)\n",
      "138 ms ± 587 µs per loop (mean ± std. dev. of 7 runs, 10 loops each)\n"
     ]
    }
   ],
   "source": [
    "def find_cluster(cluster_name, dataframe):\n",
    "    \"\"\"\n",
    "   returns clusters with disjoint maxpaths annotated\n",
    "   to different genomes or annotated on the same\n",
    "   genome min of 10kb apart\n",
    "    \"\"\"\n",
    "    cluster = cluster_name\n",
    "    df = dataframe\n",
    "    maxpaths = [set(item) for item in [_.split(',') for _ in synth_df['maxpaths'].as_matrix()]]\n",
    "    chrom_string = df['chrom_pos'].as_matrix()\n",
    "    chrom = [_.split(':')[0] for _ in df['chrom_pos'].as_matrix()]\n",
    "    chrom_end = [int(_.split('-')[1]) for _ in df['chrom_pos'].as_matrix()]\n",
    "    for idx,item in enumerate(maxpaths):\n",
    "        for j in range(idx+1, len(maxpaths)):\n",
    "            if item.isdisjoint(maxpaths[j]):\n",
    "                if chrom[idx] != chrom[j]:\n",
    "                    return(cluster)\n",
    "                elif chrom[idx] == chrom[j]:\n",
    "                    if abs(chrom_end[idx] - chrom_end[j]) > 10000:\n",
    "                        return(cluster)\n",
    "\n",
    "def old_find_cluster(cluster, maxpaths):\n",
    "    for idx, item in enumerate(maxpaths):\n",
    "        unique = set(item.split(','))\n",
    "        for j in range(idx+1, len(maxpaths)):\n",
    "            compare = set(maxpaths[j].split(','))\n",
    "            chrom_string1 = subset_df[\n",
    "                subset_df['maxpath'] == item]['chrom_pos'].values[0]\n",
    "            chrom_string2 = subset_df[\n",
    "                subset_df['maxpath'] == maxpaths[j]]['chrom_pos'].values[0]\n",
    "\n",
    "            chrom1 = chrom_string1.split(':')[0]\n",
    "            chrom_end1 = int(chrom_string1.split('-')[1])\n",
    "\n",
    "            chrom2 = chrom_string2.split(':')[0]\n",
    "            chrom_end2 = int(chrom_string2.split('-')[1])\n",
    "            if len(unique.intersection(compare)) == 0:\n",
    "                if chrom1 != chrom2:\n",
    "                    return(cluster)\n",
    "                elif chrom1 == chrom2:\n",
    "                    if abs(chrom_end1 - chrom_end2) > 10000:\n",
    "                        return(cluster)\n",
    "\n",
    "                        \n",
    "def test_new():\n",
    "    cluster = [\"cluster_689\"]\n",
    "    disjoint_cluster = []\n",
    "    for i in cluster:\n",
    "        found = find_cluster(i, subset_df)\n",
    "        disjoint_cluster.append(found)\n",
    "    return(disjoint_cluster)\n",
    "\n",
    "def test_old():\n",
    "    cluster = [\"cluster_689\"]\n",
    "    disjoint_cluster = []\n",
    "    for i in cluster:\n",
    "        maxpaths_array = subset_df['maxpath'].as_matrix()\n",
    "        found = old_find_cluster(i,maxpaths_array)\n",
    "        disjoint_cluster.append(found)\n",
    "    return(disjoint_cluster)\n",
    "\n",
    "new = %timeit for x in range(3): test_new()\n",
    "old = %timeit for x in range(3): test_old()\n"
   ]
  },
  {
   "cell_type": "code",
   "execution_count": 5,
   "metadata": {
    "collapsed": true
   },
   "outputs": [],
   "source": [
    "unique_clusters = trimmed_df['cluster_name'].unique()[0:10]\n",
    "sub_dfs = []\n",
    "for i in unique_clusters:\n",
    "    sub_dfs.append(trimmed_df[trimmed_df['cluster_name'] == i])\n",
    "cluster_df_dict = dict(zip(unique_clusters, sub_dfs))\n",
    "\n"
   ]
  },
  {
   "cell_type": "code",
   "execution_count": 6,
   "metadata": {},
   "outputs": [
    {
     "data": {
      "text/plain": [
       "dict_keys(['cluster_100611', 'cluster_100742', 'cluster_1007', 'cluster_1027', 'cluster_10311', 'cluster_105119', 'cluster_10522', 'cluster_10641', 'cluster_106862', 'cluster_106908'])"
      ]
     },
     "execution_count": 6,
     "metadata": {},
     "output_type": "execute_result"
    }
   ],
   "source": [
    "cluster_df_dict.keys()"
   ]
  },
  {
   "cell_type": "code",
   "execution_count": 7,
   "metadata": {},
   "outputs": [
    {
     "data": {
      "text/plain": [
       "10"
      ]
     },
     "execution_count": 7,
     "metadata": {},
     "output_type": "execute_result"
    }
   ],
   "source": [
    "len(cluster_df_dict.keys())"
   ]
  },
  {
   "cell_type": "markdown",
   "metadata": {},
   "source": [
    "# NEed to add an if statement"
   ]
  },
  {
   "cell_type": "code",
   "execution_count": 14,
   "metadata": {},
   "outputs": [
    {
     "data": {
      "text/plain": [
       "['cluster_1027', 'cluster_10311', 'cluster_10641']"
      ]
     },
     "execution_count": 14,
     "metadata": {},
     "output_type": "execute_result"
    }
   ],
   "source": [
    "disjoint = [find_cluster(k,v) for k,v in cluster_df_dict.items() if find_cluster(k,v)]\n",
    "disjoint"
   ]
  },
  {
   "cell_type": "code",
   "execution_count": 15,
   "metadata": {
    "collapsed": true
   },
   "outputs": [],
   "source": [
    "    def find_cluster(cluster_name, dataframe):\n",
    "        \"\"\"\n",
    "       returns clusters with disjoint maxpaths annotated\n",
    "       to different genomes or annotated on the same\n",
    "       genome min of 10kb apart\n",
    "        \"\"\"\n",
    "        cluster = cluster_name\n",
    "        df = dataframe\n",
    "        maxpaths = [set(item) for item in [_.split(',') for _ in df['maxpath'].as_matrix()]]\n",
    "        chrom_string = df['chrom_pos'].as_matrix()\n",
    "        chrom = [_.split(':')[0] for _ in df['chrom_pos'].as_matrix()]\n",
    "        chrom_end = [int(_.split('-')[1]) for _ in df['chrom_pos'].as_matrix()]\n",
    "        for idx,item in enumerate(maxpaths):\n",
    "            for j in range(idx+1, len(maxpaths)):\n",
    "                if item.isdisjoint(maxpaths[j]):\n",
    "                    if chrom[idx] != chrom[j]:\n",
    "                        return(cluster)\n",
    "                    elif chrom[idx] == chrom[j]:\n",
    "                        if abs(chrom_end[idx] - chrom_end[j]) > 10000:\n",
    "                            return(cluster)\n",
    "\n",
    "    def df_to_dict(dataframe):\n",
    "        \"\"\" \n",
    "        Create dict with cluster as key and\n",
    "        subset of dataframe at cluster as value\n",
    "        \"\"\"\n",
    "        df = dataframe\n",
    "        unique_clusters = df['cluster_name'].unique()\n",
    "        sub_dfs = []\n",
    "        for i in unique_clusters:\n",
    "            sub_dfs.append(df[df['cluster_name'] == i])\n",
    "        return(dict(zip(unique_clusters, sub_dfs)))\n",
    "\n",
    "    def get_clusters(dataframe):\n",
    "        \"\"\"\n",
    "        return disjoint clusters\n",
    "        \"\"\"\n",
    "        df = pd.read_csv(dataframe, index_col=False)\n",
    "        df_dict = df_to_dict(df)\n",
    "        disjoint = [find_cluster(k,v) for k,v in df_dict.items() if find_cluster(k,v)]\n",
    "        return(disjoint)\n"
   ]
  },
  {
   "cell_type": "code",
   "execution_count": 18,
   "metadata": {},
   "outputs": [
    {
     "data": {
      "text/plain": [
       "9126"
      ]
     },
     "execution_count": 18,
     "metadata": {},
     "output_type": "execute_result"
    }
   ],
   "source": [
    "len(x)"
   ]
  }
 ],
 "metadata": {
  "kernelspec": {
   "display_name": "Python 3",
   "language": "python",
   "name": "python3"
  },
  "language_info": {
   "codemirror_mode": {
    "name": "ipython",
    "version": 3
   },
   "file_extension": ".py",
   "mimetype": "text/x-python",
   "name": "python",
   "nbconvert_exporter": "python",
   "pygments_lexer": "ipython3",
   "version": "3.6.3"
  }
 },
 "nbformat": 4,
 "nbformat_minor": 2
}
