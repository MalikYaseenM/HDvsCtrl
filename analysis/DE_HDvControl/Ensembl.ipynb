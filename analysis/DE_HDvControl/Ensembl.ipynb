{
 "cells": [
  {
   "cell_type": "code",
   "execution_count": 2,
   "metadata": {
    "collapsed": false,
    "scrolled": false
   },
   "outputs": [],
   "source": [
    "import pandas as pd\n",
    "# 27881\n",
    "df = pd.read_csv(\"all_salmon_firth.csv\", sep=\"\\t\")\n",
    "df = df.rename(columns = {'Unnamed: 0':'Genes'})\n",
    "df['Genes'] = df['Genes'].str.split('.').str[0]\n",
    "\n",
    "en = pd.read_csv(\"mart_export.txt\", sep=\"\\t\")\n",
    "en = en.rename(columns = {'Gene stable ID':'Genes'})\n",
    "df_new = pd.merge(df, en, on='Genes')\n",
    "\n",
    "columnsTitles = ['Genes', 'Gene name','HGNC symbol','counts__beta','counts__p','counts__padj','int__beta', 'int__p','int__padj','Subject.death__beta','Subject.death__padj']\n",
    "# 27788 rows\n",
    "df_new = df_new.reindex(columns=columnsTitles)\n",
    "\n",
    "# order by counts beta and show only those with FDR < 0.05\n",
    "df2 = df_new.sort_values(['counts__beta'], ascending=[False])\n",
    "df_fdr2 = df2[df2['counts__padj'] < 0.05]\n",
    "df_fdr2.to_csv(\"significant_firth_orderby_beta.csv\", index=False)\n",
    "\n",
    "# order by FDR values, 1474 rows\n",
    "df3 = df_new.sort_values(['counts__padj'], ascending=[True])\n",
    "df_fdr = df3[df3['counts__padj'] < 0.05]\n",
    "df_fdr.to_csv(\"significant_firth_orderby_fdr.csv\", index=False)\n",
    "df_fdr\n",
    "\n",
    "df_fdr['HGNC symbol'].to_csv(\"gene_name_FDR.csv\", index=False)"
   ]
  },
  {
   "cell_type": "code",
   "execution_count": 67,
   "metadata": {
    "collapsed": false
   },
   "outputs": [],
   "source": [
    "import pandas as pd\n",
    "df = pd.read_csv(\"david_enrc_scores.txt\", sep=\"\\t\")\n",
    "df"
   ]
  },
  {
   "cell_type": "code",
   "execution_count": 80,
   "metadata": {
    "collapsed": false
   },
   "outputs": [],
   "source": []
  },
  {
   "cell_type": "code",
   "execution_count": null,
   "metadata": {
    "collapsed": true
   },
   "outputs": [],
   "source": []
  }
 ],
 "metadata": {
  "anaconda-cloud": {},
  "kernelspec": {
   "display_name": "Python [default]",
   "language": "python",
   "name": "python3"
  },
  "language_info": {
   "codemirror_mode": {
    "name": "ipython",
    "version": 3
   },
   "file_extension": ".py",
   "mimetype": "text/x-python",
   "name": "python",
   "nbconvert_exporter": "python",
   "pygments_lexer": "ipython3",
   "version": "3.5.2"
  }
 },
 "nbformat": 4,
 "nbformat_minor": 1
}
